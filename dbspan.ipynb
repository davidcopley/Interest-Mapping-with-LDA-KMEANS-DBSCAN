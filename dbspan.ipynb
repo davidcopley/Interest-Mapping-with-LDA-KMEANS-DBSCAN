{
 "cells": [
  {
   "cell_type": "code",
   "execution_count": 1,
   "metadata": {
    "collapsed": true
   },
   "outputs": [],
   "source": [
    "import numpy as np\n",
    "import pandas as pd\n",
    "import nltk\n",
    "import re\n",
    "import os\n",
    "import codecs\n",
    "import sklearn\n",
    "import mpld3"
   ]
  },
  {
   "cell_type": "code",
   "execution_count": 2,
   "metadata": {
    "collapsed": true
   },
   "outputs": [],
   "source": [
    "df = pd.read_table(\"./careerData.txt\")"
   ]
  },
  {
   "cell_type": "code",
   "execution_count": 3,
   "metadata": {
    "collapsed": true
   },
   "outputs": [],
   "source": [
    "df = df[['Title','Description']]"
   ]
  },
  {
   "cell_type": "code",
   "execution_count": 4,
   "metadata": {
    "collapsed": true
   },
   "outputs": [],
   "source": [
    "df.columns = ['title','description']"
   ]
  },
  {
   "cell_type": "code",
   "execution_count": 5,
   "metadata": {
    "collapsed": true
   },
   "outputs": [],
   "source": [
    "stopwords = nltk.corpus.stopwords.words('english')"
   ]
  },
  {
   "cell_type": "code",
   "execution_count": 6,
   "metadata": {
    "collapsed": true
   },
   "outputs": [],
   "source": [
    "stemmer = nltk.stem.snowball.SnowballStemmer('english')"
   ]
  },
  {
   "cell_type": "code",
   "execution_count": 7,
   "metadata": {
    "collapsed": true
   },
   "outputs": [],
   "source": [
    "def tokenize_and_stem(text):\n",
    "    # first tokenize by sentence, then by word to ensure that punctuation is caught as it's own token\n",
    "    tokens = [word for sent in nltk.sent_tokenize(text) for word in nltk.word_tokenize(sent)]\n",
    "    filtered_tokens = []\n",
    "    # filter out any tokens not containing letters (e.g., numeric tokens, raw punctuation)\n",
    "    for token in tokens:\n",
    "        if re.search('[a-zA-Z]', token):\n",
    "            filtered_tokens.append(token)\n",
    "    stems = [stemmer.stem(t) for t in filtered_tokens]\n",
    "    return stems"
   ]
  },
  {
   "cell_type": "code",
   "execution_count": 8,
   "metadata": {
    "collapsed": true
   },
   "outputs": [],
   "source": [
    "def tokenize_only(text):\n",
    "    # first tokenize by sentence, then by word to ensure that punctuation is caught as it's own token\n",
    "    tokens = [word.lower() for sent in nltk.sent_tokenize(text) for word in nltk.word_tokenize(sent)]\n",
    "    filtered_tokens = []\n",
    "    # filter out any tokens not containing letters (e.g., numeric tokens, raw punctuation)\n",
    "    for token in tokens:\n",
    "        if re.search('[a-zA-Z]', token):\n",
    "            filtered_tokens.append(token)\n",
    "    return filtered_tokens"
   ]
  },
  {
   "cell_type": "code",
   "execution_count": 9,
   "metadata": {
    "collapsed": true
   },
   "outputs": [],
   "source": [
    "totalvocab_stemmed = []\n",
    "totalvocab_tokenized = []\n",
    "for i in df['description'].values:\n",
    "    allwords_stemmed = tokenize_and_stem(i) #for each item in 'synopses', tokenize/stem\n",
    "    totalvocab_stemmed.extend(allwords_stemmed) #extend the 'totalvocab_stemmed' list\n",
    "    \n",
    "    allwords_tokenized = tokenize_only(i)\n",
    "    totalvocab_tokenized.extend(allwords_tokenized)"
   ]
  },
  {
   "cell_type": "code",
   "execution_count": 10,
   "metadata": {
    "collapsed": true
   },
   "outputs": [],
   "source": [
    "vocab_frame = pd.DataFrame({'words': totalvocab_tokenized}, index = totalvocab_stemmed)"
   ]
  },
  {
   "cell_type": "code",
   "execution_count": 11,
   "metadata": {
    "collapsed": true
   },
   "outputs": [],
   "source": [
    "from sklearn.feature_extraction.text import TfidfVectorizer"
   ]
  },
  {
   "cell_type": "code",
   "execution_count": 12,
   "metadata": {
    "collapsed": true
   },
   "outputs": [],
   "source": [
    "tfidf_vectorizer = TfidfVectorizer(\n",
    "    max_features=200000,\n",
    "    stop_words='english',\n",
    "    use_idf=True, \n",
    "    tokenizer=tokenize_and_stem, \n",
    "    ngram_range=(1,3)\n",
    ")"
   ]
  },
  {
   "cell_type": "code",
   "execution_count": 13,
   "metadata": {
    "collapsed": true
   },
   "outputs": [],
   "source": [
    "tfidf_matrix = tfidf_vectorizer.fit_transform(df['description'].values)"
   ]
  },
  {
   "cell_type": "code",
   "execution_count": 14,
   "metadata": {
    "collapsed": true
   },
   "outputs": [],
   "source": [
    "terms = tfidf_vectorizer.get_feature_names()"
   ]
  },
  {
   "cell_type": "code",
   "execution_count": 15,
   "metadata": {
    "collapsed": true
   },
   "outputs": [],
   "source": [
    "from sklearn.metrics.pairwise import cosine_similarity"
   ]
  },
  {
   "cell_type": "code",
   "execution_count": 16,
   "metadata": {
    "collapsed": true
   },
   "outputs": [],
   "source": [
    "dist = 1 - cosine_similarity(tfidf_matrix)"
   ]
  },
  {
   "cell_type": "code",
   "execution_count": 17,
   "metadata": {
    "collapsed": true
   },
   "outputs": [],
   "source": [
    "from sklearn.cluster import DBSCAN"
   ]
  },
  {
   "cell_type": "code",
   "execution_count": 49,
   "metadata": {
    "collapsed": true
   },
   "outputs": [],
   "source": [
    "db = DBSCAN(metric='precomputed',eps=0.95,min_samples=5)"
   ]
  },
  {
   "cell_type": "code",
   "execution_count": 38,
   "metadata": {},
   "outputs": [
    {
     "data": {
      "text/plain": [
       "DBSCAN(algorithm='auto', eps=0.95, leaf_size=30, metric='precomputed',\n",
       "    metric_params=None, min_samples=100, n_jobs=1, p=None)"
      ]
     },
     "execution_count": 38,
     "metadata": {},
     "output_type": "execute_result"
    }
   ],
   "source": [
    "db.fit(dist)"
   ]
  },
  {
   "cell_type": "code",
   "execution_count": 43,
   "metadata": {},
   "outputs": [],
   "source": [
    "df['label']=db.labels_"
   ]
  },
  {
   "cell_type": "code",
   "execution_count": 46,
   "metadata": {},
   "outputs": [
    {
     "data": {
      "text/plain": [
       "-1    1110\n",
       "Name: label, dtype: int64"
      ]
     },
     "execution_count": 46,
     "metadata": {},
     "output_type": "execute_result"
    }
   ],
   "source": [
    "df['label'].value_counts()"
   ]
  },
  {
   "cell_type": "code",
   "execution_count": 50,
   "metadata": {},
   "outputs": [
    {
     "name": "stdout",
     "output_type": "stream",
     "text": [
      "-1    1110\n",
      "Name: label, dtype: int64\n",
      "-1    1110\n",
      "Name: label, dtype: int64\n",
      "-1    1110\n",
      "Name: label, dtype: int64\n",
      "-1    1110\n",
      "Name: label, dtype: int64\n",
      "-1    1110\n",
      "Name: label, dtype: int64\n",
      "-1    1110\n",
      "Name: label, dtype: int64\n",
      "-1    1110\n",
      "Name: label, dtype: int64\n",
      "-1    1110\n",
      "Name: label, dtype: int64\n",
      "-1    1110\n",
      "Name: label, dtype: int64\n",
      "-1    1110\n",
      "Name: label, dtype: int64\n",
      "-1    1110\n",
      "Name: label, dtype: int64\n",
      "-1    1110\n",
      "Name: label, dtype: int64\n",
      "-1    1110\n",
      "Name: label, dtype: int64\n",
      "-1    1110\n",
      "Name: label, dtype: int64\n",
      "-1    1110\n",
      "Name: label, dtype: int64\n",
      "-1    1110\n",
      "Name: label, dtype: int64\n",
      "-1    1110\n",
      "Name: label, dtype: int64\n",
      "-1    1110\n",
      "Name: label, dtype: int64\n",
      "-1    1110\n",
      "Name: label, dtype: int64\n",
      "-1    1110\n",
      "Name: label, dtype: int64\n",
      "-1    1110\n",
      "Name: label, dtype: int64\n",
      "-1    1110\n",
      "Name: label, dtype: int64\n",
      "-1    1110\n",
      "Name: label, dtype: int64\n",
      "-1    1110\n",
      "Name: label, dtype: int64\n",
      "-1    1110\n",
      "Name: label, dtype: int64\n",
      "-1    1110\n",
      "Name: label, dtype: int64\n",
      "-1    1110\n",
      "Name: label, dtype: int64\n",
      "-1    1110\n",
      "Name: label, dtype: int64\n",
      "-1    1110\n",
      "Name: label, dtype: int64\n",
      "-1    1110\n",
      "Name: label, dtype: int64\n",
      "-1    1110\n",
      "Name: label, dtype: int64\n",
      "-1    1110\n",
      "Name: label, dtype: int64\n",
      "-1    1110\n",
      "Name: label, dtype: int64\n",
      "-1    1110\n",
      "Name: label, dtype: int64\n",
      "-1    1110\n",
      "Name: label, dtype: int64\n",
      "-1    1110\n",
      "Name: label, dtype: int64\n",
      "-1    1110\n",
      "Name: label, dtype: int64\n",
      "-1    1110\n",
      "Name: label, dtype: int64\n",
      "-1    1110\n",
      "Name: label, dtype: int64\n",
      "-1    1110\n",
      "Name: label, dtype: int64\n",
      "-1    1110\n",
      "Name: label, dtype: int64\n",
      "-1    1110\n",
      "Name: label, dtype: int64\n",
      "-1    1110\n",
      "Name: label, dtype: int64\n",
      "-1    1110\n",
      "Name: label, dtype: int64\n",
      "-1    1110\n",
      "Name: label, dtype: int64\n",
      "-1    1110\n",
      "Name: label, dtype: int64\n",
      "-1    1110\n",
      "Name: label, dtype: int64\n",
      "-1    1110\n",
      "Name: label, dtype: int64\n",
      "-1    1110\n",
      "Name: label, dtype: int64\n",
      "-1    1110\n",
      "Name: label, dtype: int64\n",
      "-1    1110\n",
      "Name: label, dtype: int64\n",
      "-1    1110\n",
      "Name: label, dtype: int64\n",
      "-1    1110\n",
      "Name: label, dtype: int64\n",
      "-1    1110\n",
      "Name: label, dtype: int64\n",
      "-1    1110\n",
      "Name: label, dtype: int64\n",
      "-1    1110\n",
      "Name: label, dtype: int64\n",
      "-1    1110\n",
      "Name: label, dtype: int64\n",
      "-1    1110\n",
      "Name: label, dtype: int64\n",
      "-1    1110\n",
      "Name: label, dtype: int64\n",
      "-1    1110\n",
      "Name: label, dtype: int64\n",
      "-1    1110\n",
      "Name: label, dtype: int64\n",
      "-1    1110\n",
      "Name: label, dtype: int64\n",
      "-1    1110\n",
      "Name: label, dtype: int64\n",
      "-1    1110\n",
      "Name: label, dtype: int64\n",
      "-1    1110\n",
      "Name: label, dtype: int64\n",
      "-1    1110\n",
      "Name: label, dtype: int64\n",
      "-1    1110\n",
      "Name: label, dtype: int64\n",
      "-1    1110\n",
      "Name: label, dtype: int64\n",
      "-1    1110\n",
      "Name: label, dtype: int64\n",
      "-1    1110\n",
      "Name: label, dtype: int64\n",
      "-1    1110\n",
      "Name: label, dtype: int64\n",
      "-1    1110\n",
      "Name: label, dtype: int64\n",
      "-1    1110\n",
      "Name: label, dtype: int64\n",
      "-1    1110\n",
      "Name: label, dtype: int64\n",
      "-1    1110\n",
      "Name: label, dtype: int64\n",
      "-1    1110\n",
      "Name: label, dtype: int64\n",
      "-1    1110\n",
      "Name: label, dtype: int64\n",
      "-1    1110\n",
      "Name: label, dtype: int64\n",
      "-1    1110\n",
      "Name: label, dtype: int64\n",
      "-1    1110\n",
      "Name: label, dtype: int64\n",
      "-1    1110\n",
      "Name: label, dtype: int64\n",
      "-1    1110\n",
      "Name: label, dtype: int64\n",
      "-1    1110\n",
      "Name: label, dtype: int64\n",
      "-1    1110\n",
      "Name: label, dtype: int64\n",
      "-1    1110\n",
      "Name: label, dtype: int64\n",
      "-1    1110\n",
      "Name: label, dtype: int64\n",
      "-1    1110\n",
      "Name: label, dtype: int64\n",
      "-1    1110\n",
      "Name: label, dtype: int64\n",
      "-1    1110\n",
      "Name: label, dtype: int64\n",
      "-1    1110\n",
      "Name: label, dtype: int64\n",
      "-1    1110\n",
      "Name: label, dtype: int64\n",
      "-1    1110\n",
      "Name: label, dtype: int64\n",
      "-1    1110\n",
      "Name: label, dtype: int64\n",
      "-1    1110\n",
      "Name: label, dtype: int64\n",
      "-1    1110\n",
      "Name: label, dtype: int64\n",
      "-1    980\n",
      " 0    130\n",
      "Name: label, dtype: int64\n",
      "-1    586\n",
      " 0    524\n",
      "Name: label, dtype: int64\n",
      " 0    1093\n",
      "-1      17\n",
      "Name: label, dtype: int64\n"
     ]
    }
   ],
   "source": [
    "for i in range(1,99):\n",
    "    db = DBSCAN(metric='precomputed',eps=i*0.01,min_samples=100)\n",
    "    db.fit(dist)\n",
    "    df['label']=db.labels_\n",
    "    print(df['label'].value_counts())"
   ]
  },
  {
   "cell_type": "code",
   "execution_count": null,
   "metadata": {
    "collapsed": true
   },
   "outputs": [],
   "source": []
  }
 ],
 "metadata": {
  "kernelspec": {
   "display_name": "Python 3",
   "language": "python",
   "name": "python3"
  },
  "language_info": {
   "codemirror_mode": {
    "name": "ipython",
    "version": 3
   },
   "file_extension": ".py",
   "mimetype": "text/x-python",
   "name": "python",
   "nbconvert_exporter": "python",
   "pygments_lexer": "ipython3",
   "version": "3.6.3"
  }
 },
 "nbformat": 4,
 "nbformat_minor": 2
}
